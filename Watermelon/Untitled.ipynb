{
 "cells": [
  {
   "cell_type": "code",
   "execution_count": 1,
   "id": "10de40b8",
   "metadata": {},
   "outputs": [],
   "source": [
    "import pandas as pd\n",
    "import numpy as np\n",
    "from nltk.corpus import stopwords\n",
    "from nltk.stem import WordNetLemmatizer\n",
    "from sklearn.feature_extraction.text import TfidfVectorizer\n",
    "from sklearn.model_selection import train_test_split\n",
    "from sklearn.preprocessing import LabelEncoder\n",
    "from tensorflow.keras.models import Sequential\n",
    "from tensorflow.keras.layers import Embedding, LSTM, Dense\n",
    "from tensorflow.keras.preprocessing.text import Tokenizer\n",
    "from tensorflow.keras.preprocessing.sequence import pad_sequences"
   ]
  },
  {
   "cell_type": "code",
   "execution_count": 2,
   "id": "4d95da89",
   "metadata": {},
   "outputs": [
    {
     "name": "stdout",
     "output_type": "stream",
     "text": [
      "  Brand name                                       Product name  \\\n",
      "0       cleo  Cleo Glow Radiance Booster Lightening Day Flui...   \n",
      "1       cleo  Cleo Glow Radiance Booster Lightening Night Fl...   \n",
      "2       cleo  Cleo Glow Lightening Cleansing Gel Ultra Hydra...   \n",
      "3       cleo  Cleo Glow Vitamin C Cleansing Gel (All Skin Ty...   \n",
      "4       cleo                      Cleo Glow Vitamin C 10% Serum   \n",
      "\n",
      "                                    Text Description Price Range  \\\n",
      "0  The Cleo Glow Radiance Booster Lightening Day ...     100-200   \n",
      "1  Cleo Glow Radiance Booster Lightening Night Fl...     100-200   \n",
      "2  The Cleo Glow Lightening Cleansing Gel is a ge...     100-200   \n",
      "3  The Cleo Glow Vitamin C Cleansing Gel is a gen...     100-200   \n",
      "4  Cleo Glow Vitamin C 10% Serum is a powerful an...     100-200   \n",
      "\n",
      "                                           Image URL Country of manufacture  \\\n",
      "0  https://i0.wp.com/cleolaboratories.com/wp-cont...                  Egypt   \n",
      "1  https://i0.wp.com/cleolaboratories.com/wp-cont...                  Egypt   \n",
      "2  https://i0.wp.com/cleolaboratories.com/wp-cont...                  Egypt   \n",
      "3  https://i0.wp.com/cleolaboratories.com/wp-cont...                  Egypt   \n",
      "4  https://i0.wp.com/cleolaboratories.com/wp-cont...                  Egypt   \n",
      "\n",
      "       Category                               Categorization Labels  \\\n",
      "0  Health & Care  Beauty - Skincare - Face - Moisturizer - Brigh...   \n",
      "1  Health & Care  Beauty - Skincare - Face - Night Cream - Exfol...   \n",
      "2  Health & Care  Beauty - Skincare - Face - Cleanser - Exfoliat...   \n",
      "3  Health & Care  Beauty - Skincare - Face - Cleanser - Brighten...   \n",
      "4  Health & Care  Beauty - Skincare - Face - Serum - Vitamin C -...   \n",
      "\n",
      "   Nutritional Information                                    Ingredients  \n",
      "0                      NaN                             Vitamin C - SPF 40  \n",
      "1                      NaN  Alpha Arbutin - Niacinamide - Salicylic Acid   \n",
      "2                      NaN                 LHA - Vitamin C - Niacinamide   \n",
      "3                      NaN               Vitamin C - Glycerin - Aloe vera  \n",
      "4                      NaN      Vitamin C - Hyaluronic Acid - Niacinamide  \n"
     ]
    }
   ],
   "source": [
    "data = pd.read_csv(\"Watermelon dataset.csv\") \n",
    "print(data.head()) \n"
   ]
  },
  {
   "cell_type": "code",
   "execution_count": 3,
   "id": "e8567dad",
   "metadata": {},
   "outputs": [],
   "source": [
    "data['Text Description'] = data['Text Description'].apply(lambda x: x.lower())\n"
   ]
  },
  {
   "cell_type": "code",
   "execution_count": 4,
   "id": "825f6ac9",
   "metadata": {},
   "outputs": [],
   "source": [
    "import string\n",
    "translator = str.maketrans('', '', string.punctuation) \n",
    "data['Text Description'] = data['Text Description'].apply(lambda x: x.translate(translator))\n"
   ]
  },
  {
   "cell_type": "code",
   "execution_count": 5,
   "id": "3820493a",
   "metadata": {},
   "outputs": [],
   "source": [
    "data['Text Description'] = data['Text Description'].apply(lambda x: ' '.join(x.split()))\n"
   ]
  },
  {
   "cell_type": "code",
   "execution_count": 6,
   "id": "de34df4e",
   "metadata": {},
   "outputs": [],
   "source": [
    "from nltk.corpus import stopwords\n",
    "stop_words = set(stopwords.words('english')) \n",
    "data['Text Description'] = data['Text Description'].apply(lambda x: ' '.join([word for word in x.split() if word not in stop_words]))\n"
   ]
  },
  {
   "cell_type": "code",
   "execution_count": 7,
   "id": "73685cf6",
   "metadata": {},
   "outputs": [],
   "source": [
    "vectorizer = TfidfVectorizer()\n",
    "tfidf_features = vectorizer.fit_transform(data['Text Description'])\n",
    "\n",
    "X = np.hstack([tfidf_features.toarray(), data[['Price Range']]])  # Include 'Price' feature\n",
    "\n"
   ]
  },
  {
   "cell_type": "code",
   "execution_count": 8,
   "id": "c78162cd",
   "metadata": {},
   "outputs": [],
   "source": [
    "from nltk.stem import PorterStemmer \n",
    "\n",
    "def preprocess_new_text(text):\n",
    "    stemmer = PorterStemmer() \n",
    "    stop_words = set(stopwords.words('english'))\n",
    "\n",
    "    text = text.lower()  \n",
    "    text = text.translate(str.maketrans('', '', string.punctuation)) \n",
    "    text = ' '.join(text.split())  \n",
    "    text = ' '.join([stemmer.stem(word) for word in text.split() if word not in stop_words]) \n",
    "\n",
    "    return text \n"
   ]
  },
  {
   "cell_type": "code",
   "execution_count": 9,
   "id": "df7314c0",
   "metadata": {},
   "outputs": [],
   "source": [
    "encoder = LabelEncoder()\n",
    "y = encoder.fit_transform(data['Category '])"
   ]
  },
  {
   "cell_type": "code",
   "execution_count": 10,
   "id": "e3d74110",
   "metadata": {},
   "outputs": [],
   "source": [
    "from keras.preprocessing.sequence import pad_sequences\n",
    "\n",
    "max_length = 200 \n",
    "\n",
    "tokenizer = Tokenizer()\n",
    "tokenizer.fit_on_texts(data['Text Description'])\n",
    "sequences = tokenizer.texts_to_sequences(data['Text Description'])\n",
    "\n",
    "padded_sequences = pad_sequences(sequences, maxlen=max_length) \n"
   ]
  },
  {
   "cell_type": "code",
   "execution_count": 11,
   "id": "8f14f965",
   "metadata": {},
   "outputs": [],
   "source": [
    "X = tfidf_features.toarray().astype(np.float32)  \n",
    "\n"
   ]
  },
  {
   "cell_type": "code",
   "execution_count": 12,
   "id": "dbec9270",
   "metadata": {},
   "outputs": [],
   "source": [
    "X_train, X_test, y_train, y_test = train_test_split(X, y, test_size=0.2, random_state=42) "
   ]
  },
  {
   "cell_type": "code",
   "execution_count": 13,
   "id": "ee3eb1f6",
   "metadata": {},
   "outputs": [],
   "source": [
    "from sklearn.metrics.pairwise import cosine_similarity\n",
    "\n",
    "def similarity_calculation(query_tfidf, tfidf_features):\n",
    "    similarities = cosine_similarity(query_tfidf, tfidf_features)\n",
    "    return similarities \n",
    "\n"
   ]
  },
  {
   "cell_type": "code",
   "execution_count": 14,
   "id": "04cc5b12",
   "metadata": {},
   "outputs": [
    {
     "name": "stdout",
     "output_type": "stream",
     "text": [
      "   Brand name                                       Product name  \\\n",
      "8        cleo  Cleo Youth Hyaluronic Acid Day Cream SPF 30 An...   \n",
      "7        cleo  Cleo Youth Hyaluronic Acid+ Anti-Aging Night C...   \n",
      "23       cleo                    CLEO GROW ENERGIZING HAIR CREAM   \n",
      "25       cleo  Cleo Sun Hydrating Sunscreen Cream Broad Spect...   \n",
      "6        cleo           Cleo Youth Hyaluronic Acid Cleansing Gel   \n",
      "\n",
      "                                     Text Description Price Range  \\\n",
      "8   cleo youth hyaluronic acid day cream spf 30 an...     100-200   \n",
      "7   cleo youth hyaluronic acid antiaging night cre...     100-200   \n",
      "23  cleo grow energizing hair cream rich hair crea...     100-200   \n",
      "25  cleo laboratories sun hydrating sunscreen crea...     100-200   \n",
      "6   cleo youth hyaluronic acid cleansing gel deep ...     100-200   \n",
      "\n",
      "                                            Image URL Country of manufacture  \\\n",
      "8   https://i0.wp.com/cleolaboratories.com/wp-cont...                  Egypt   \n",
      "7   https://i0.wp.com/cleolaboratories.com/wp-cont...                  Egypt   \n",
      "23  https://i0.wp.com/cleolaboratories.com/wp-cont...                  Egypt   \n",
      "25  https://i0.wp.com/cleolaboratories.com/wp-cont...                  Egypt   \n",
      "6   https://i0.wp.com/cleolaboratories.com/wp-cont...                  Egypt   \n",
      "\n",
      "        Category                               Categorization Labels  \\\n",
      "8   Health & Care  Beauty - Skincare - Face - Day Cream - Anti-Ag...   \n",
      "7   Health & Care  Beauty - Skincare - Face - Night Cream - Anti-...   \n",
      "23  Health & Care  Beauty - Hair Care - Hair Treatment - Hair Los...   \n",
      "25  Health & Care  Beauty - Sunscreen - Face & Body (check the la...   \n",
      "6   Health & Care  Beauty - Skincare - Face - Cleanser - Hydratin...   \n",
      "\n",
      "    Nutritional Information                                        Ingredients  \n",
      "8                       NaN  Hyaluronic Acid - Vitamin C - Collagen - Vitam...  \n",
      "7                       NaN  Hyaluronic Acid - Vitamin C - Collagen - Vitam...  \n",
      "23                      NaN  Coconut Oil - Argan Oil - Caffeine - Biotin - ...  \n",
      "25                      NaN  \\nOctocrylene - Avobenzone - Homosalate - Octi...  \n",
      "6                       NaN  Hyaluronic Acid - Vitamin C - Collagen - Vitam...  \n"
     ]
    }
   ],
   "source": [
    "def suggest_products(user_query, num_suggestions=5):\n",
    "    processed_query = preprocess_new_text(user_query)\n",
    "    query_tfidf = vectorizer.transform([processed_query])\n",
    "\n",
    "    similarities = similarity_calculation(query_tfidf, tfidf_features) \n",
    "\n",
    "    top_indices = similarities.argsort()[0][-num_suggestions:][::-1]\n",
    "    suggested_products = data.iloc[top_indices]\n",
    "\n",
    "    return suggested_products\n",
    "\n",
    "user_query = \"Looking for a hydrating face cream\"\n",
    "suggestions = suggest_products(user_query)\n",
    "print(suggestions)"
   ]
  },
  {
   "cell_type": "code",
   "execution_count": 37,
   "id": "02f04b54",
   "metadata": {},
   "outputs": [
    {
     "name": "stdout",
     "output_type": "stream",
     "text": [
      "Running on local URL:  http://127.0.0.1:7877\n",
      "\n",
      "To create a public link, set `share=True` in `launch()`.\n"
     ]
    },
    {
     "data": {
      "text/html": [
       "<div><iframe src=\"http://127.0.0.1:7877/\" width=\"100%\" height=\"500\" allow=\"autoplay; camera; microphone; clipboard-read; clipboard-write;\" frameborder=\"0\" allowfullscreen></iframe></div>"
      ],
      "text/plain": [
       "<IPython.core.display.HTML object>"
      ]
     },
     "metadata": {},
     "output_type": "display_data"
    },
    {
     "data": {
      "text/plain": []
     },
     "execution_count": 37,
     "metadata": {},
     "output_type": "execute_result"
    }
   ],
   "source": [
    "import gradio as gr\n",
    "import requests  \n",
    "\n",
    "#def fetch_image(image_url):\n",
    " #   try:\n",
    "  #      response = requests.get(image_url, stream=True)\n",
    "   #     return response.raw\n",
    "    #except requests.exceptions.RequestException:\n",
    "     #   return None  \n",
    "    \n",
    "def display_product(brand, name, price):\n",
    "    return f\"\"\"\n",
    "           <div style='margin-bottom: 15px; border: 1px solid #eee'>\n",
    "               <b>{brand}</b> - {name} <br>\n",
    "               Price Range: {price}\n",
    "           </div>\n",
    "           \"\"\" \n",
    "\n",
    "    \n",
    "def predict(user_query): \n",
    "    suggestions = suggest_products(user_query)\n",
    "   \n",
    "    suggestions_display = suggestions[['Brand name', 'Product name', 'Price Range']]\n",
    "    suggestions_display = suggestions_display.drop_duplicates()\n",
    "\n",
    "    return suggestions_display.to_html(escape=False, index=False) \n",
    " \n",
    "iface = gr.Interface(fn=predict, \n",
    "                     inputs=\"text\",  \n",
    "                     outputs=gr.HTML(), \n",
    "                     title=\"Watermelon Product Suggester\",\n",
    "                     description=\"Find your perfect skincare and more\",\n",
    "                     examples=[\"Looking for a gentle cleanser\", \"Need a moisturizer for oily skin\"])\n",
    "\n",
    "iface.launch() "
   ]
  },
  {
   "cell_type": "code",
   "execution_count": null,
   "id": "7a5cfed5",
   "metadata": {},
   "outputs": [],
   "source": []
  },
  {
   "cell_type": "code",
   "execution_count": null,
   "id": "3567b9e5",
   "metadata": {},
   "outputs": [],
   "source": []
  }
 ],
 "metadata": {
  "kernelspec": {
   "display_name": "Python 3 (ipykernel)",
   "language": "python",
   "name": "python3"
  },
  "language_info": {
   "codemirror_mode": {
    "name": "ipython",
    "version": 3
   },
   "file_extension": ".py",
   "mimetype": "text/x-python",
   "name": "python",
   "nbconvert_exporter": "python",
   "pygments_lexer": "ipython3",
   "version": "3.10.9"
  }
 },
 "nbformat": 4,
 "nbformat_minor": 5
}
